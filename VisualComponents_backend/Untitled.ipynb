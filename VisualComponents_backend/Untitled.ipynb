{
 "cells": [
  {
   "cell_type": "code",
   "execution_count": 1,
   "id": "intellectual-secretariat",
   "metadata": {},
   "outputs": [
    {
     "name": "stdout",
     "output_type": "stream",
     "text": [
      "INFO: Pandarallel will run on 40 workers.\n",
      "INFO: Pandarallel will use Memory file system to transfer data between the main process and workers.\n"
     ]
    }
   ],
   "source": [
    "%load_ext autoreload\n",
    "%autoreload 2\n",
    "\n",
    "\n",
    "import pandas as pd\n",
    "import sys\n",
    "import os\n",
    "import plotly\n",
    "import plotly.graph_objects as go\n",
    "\n",
    "sys.path.append('./../')\n",
    "from  sankey_diagram import main as sankey\n",
    "from EmbViz_all import main as emb\n",
    "from TimeSeries import fetchTimeSeries  as TS"
   ]
  },
  {
   "cell_type": "code",
   "execution_count": 5,
   "id": "apparent-humanitarian",
   "metadata": {},
   "outputs": [],
   "source": [
    "# main.initialize(\n",
    "#     DATA_LOC=,\n",
    "#     subDIR=',\n",
    "# )"
   ]
  },
  {
   "cell_type": "code",
   "execution_count": 5,
   "id": "combined-colony",
   "metadata": {},
   "outputs": [],
   "source": [
    "jsonCacheDir = './jsonCache'\n",
    "htmlCacheDir = './htmlCache'"
   ]
  },
  {
   "cell_type": "code",
   "execution_count": 23,
   "id": "faced-vienna",
   "metadata": {},
   "outputs": [],
   "source": [
    "sankey.initialize(\n",
    "    _DATA_LOC='./../generated_data_v1/us_import',\n",
    "    _subDIR='01_2016',\n",
    "    _html_saveDir=htmlCacheDir,\n",
    "    _json_saveDir=jsonCacheDir\n",
    "    \n",
    ")"
   ]
  },
  {
   "cell_type": "code",
   "execution_count": 42,
   "id": "smart-detective",
   "metadata": {},
   "outputs": [],
   "source": [
    "TS.initialize(\n",
    "    _DATA_LOC='./../generated_data_v1/us_import',\n",
    "    _subDIR='01_2016',\n",
    "    _html_saveDir=htmlCacheDir,\n",
    "    _json_saveDir=jsonCacheDir\n",
    "    \n",
    ")\n",
    "html_path_1, html_path_2 = TS.get_TimeSeries('106645949',use_cache=False)\n"
   ]
  },
  {
   "cell_type": "code",
   "execution_count": null,
   "id": "ahead-luxembourg",
   "metadata": {},
   "outputs": [],
   "source": [
    "fig = sankey.get_sankey_diagram(\n",
    "        PanjivaRecordID = '121983692',\n",
    "        diagram_type=2,\n",
    "        return_type=3,\n",
    "        use_cache = True\n",
    ")"
   ]
  },
  {
   "cell_type": "code",
   "execution_count": 43,
   "id": "sought-pledge",
   "metadata": {},
   "outputs": [],
   "source": []
  },
  {
   "cell_type": "code",
   "execution_count": null,
   "id": "dense-pathology",
   "metadata": {},
   "outputs": [],
   "source": [
    "# main.initialize(\n",
    "#     _DATA_LOC='./../generated_data_v1/us_import',\n",
    "#     _subDIR='01_2016',\n",
    "#     mp2v_emb_dir = './../records2graph/saved_model_data',\n",
    "#     emb_dim = 64\n",
    "# )\n",
    "\n",
    "# main.get_record_entityEmbeddings(\n",
    "#     PanjivaRecordID ='121983692'\n",
    "# )\n",
    "\n",
    "\n",
    "# main.get_record_entityEmbeddings(\n",
    "#     PanjivaRecordID ='121983692'\n",
    "# )\n",
    "\n",
    "# fig.write_html(\"sankey_2.html\",include_plotlyjs='cdn', include_mathjax= 'cdn', full_html=False)"
   ]
  }
 ],
 "metadata": {
  "kernelspec": {
   "display_name": "Python 3",
   "language": "python",
   "name": "python3"
  },
  "language_info": {
   "codemirror_mode": {
    "name": "ipython",
    "version": 3
   },
   "file_extension": ".py",
   "mimetype": "text/x-python",
   "name": "python",
   "nbconvert_exporter": "python",
   "pygments_lexer": "ipython3",
   "version": "3.7.9"
  }
 },
 "nbformat": 4,
 "nbformat_minor": 5
}
