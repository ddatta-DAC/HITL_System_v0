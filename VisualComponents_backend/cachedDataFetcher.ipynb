{
 "cells": [
  {
   "cell_type": "code",
   "execution_count": 12,
   "id": "sharing-membership",
   "metadata": {},
   "outputs": [
    {
     "data": {
      "text/plain": [
       "dict_keys(['companyNetworkViz', 'stackedComparison', 'EmbViz_all', 'HSCodeViz', 'TimeSeries', 'sankeyDiagram'])"
      ]
     },
     "execution_count": 12,
     "metadata": {},
     "output_type": "execute_result"
    }
   ],
   "source": [
    "'''\n",
    "STATIC DATA FETCHER\n",
    "\n",
    "# -----------------------------\n",
    "Fetch the saved html files for each type of chart\n",
    "'''\n",
    "# ---------------------\n",
    "# [Note : set base_path to have the correct relative path\n",
    "# ---------------------\n",
    "\n",
    "import os\n",
    "import sys\n",
    "import pandas as pd\n",
    "from glob import glob \n",
    "from tqdm import tqdm\n",
    "import multiprocessing as MP\n",
    "from joblib import Parallel, delayed\n",
    "\n",
    "\n",
    "class static_data_fetcher():\n",
    "\n",
    "    def __init__(self, base_path = './'):\n",
    "        self.chart_locationDir = {\n",
    "            'companyNetworkViz': 'companyNetworkViz',\n",
    "            'stackedComparison': 'stackedComparison',\n",
    "            'EmbViz_all' : 'EmbViz_all',\n",
    "            'HSCodeViz' : 'HSCodeViz',\n",
    "            'TimeSeries' : 'TimeSeries',\n",
    "            'sankeyDiagram' : 'sankeyDiagram'\n",
    "        }\n",
    "        self.base_path = base_path\n",
    "        self.htmlCache_dir_name = 'htmlCache'\n",
    "        return \n",
    "    '''\n",
    "    sub_DIR is the epoch\n",
    "    '''\n",
    "    def fetch_saved_html(self, PanjivaRecordID, sub_DIR='01_2016'):\n",
    "        result = {}\n",
    "        PanjivaRecordID = int(PanjivaRecordID)\n",
    "        for figure_type, loc in self.chart_locationDir.items():\n",
    "            _dir = os.path.join(self.base_path, loc, self.htmlCache_dir_name + '_' + sub_DIR)\n",
    "            # Search\n",
    "            if figure_type == 'stackedComparison':\n",
    "                result[figure_type] = {}\n",
    "                _dir = os.path.join(_dir,  str(PanjivaRecordID) )\n",
    "                \n",
    "                files = glob(os.path.join(_dir,'**.html'))\n",
    "                for f in files:\n",
    "                    domain = os.path.basename(f).split('.')[0].split('__')[-1]\n",
    "                    fh = open(f, 'r')\n",
    "                    result[figure_type][domain] = fh.read()\n",
    "                    fh.close()\n",
    "            elif figure_type == 'sankeyDiagram':\n",
    "                result[figure_type] = {}\n",
    "                # fetch the 2 types of diagrams.\n",
    "                files = glob(os.path.join(_dir,'**_{}_**.html'.format(PanjivaRecordID)))\n",
    "                \n",
    "                for f in files:\n",
    "                    _type =  os.path.basename(f).split('.')[0].split('_')[-1] \n",
    "                    fh = open(f, 'r')\n",
    "                    result[figure_type]['Sankey Diagram Type {}'.format(_type)] = fh.read()\n",
    "                    fh.close()\n",
    "            elif figure_type == 'EmbViz_all':\n",
    "                file = sorted(glob(os.path.join(_dir,'**_{}.html'.format(PanjivaRecordID))))[0]\n",
    "                fh = open(file, 'r')\n",
    "                result[figure_type] = fh.read()\n",
    "                fh.close()\n",
    "            elif figure_type == 'companyNetworkViz':\n",
    "                file = sorted(glob(os.path.join(_dir,'**_{}_**.html'.format(PanjivaRecordID))))[0]\n",
    "                fh = open(file, 'r')\n",
    "                result[figure_type] = fh.read()\n",
    "                fh.close()\n",
    "            elif figure_type == 'TimeSeries':\n",
    "                result[figure_type] = {}\n",
    "                file1 = sorted(glob(os.path.join(_dir,'{}**Consignee**.html'.format(PanjivaRecordID))))[0]\n",
    "                file2 = sorted(glob(os.path.join(_dir,'{}**Shipper**.html'.format(PanjivaRecordID))))[0]\n",
    "                fh = open(file1, 'r')\n",
    "                result[figure_type]['Consignee'] = fh.read()\n",
    "                fh.close()\n",
    "                fh = open(file2, 'r')\n",
    "                result[figure_type]['Shipper'] = fh.read()\n",
    "                fh.close()\n",
    "            elif figure_type == 'HSCodeViz':\n",
    "                result[figure_type] = {}\n",
    "                file1 = sorted(glob(os.path.join(_dir,'{}**Consignee**.html'.format(PanjivaRecordID))))[0]\n",
    "                file2 = sorted(glob(os.path.join(_dir,'{}**Shipper**.html'.format(PanjivaRecordID))))[0]\n",
    "                fh = open(file1, 'r')\n",
    "                result[figure_type]['Consignee'] = fh.read()\n",
    "                fh.close()\n",
    "                fh = open(file2, 'r')\n",
    "                result[figure_type]['Shipper'] = fh.read()\n",
    "                fh.close()\n",
    "        return result\n",
    "    \n",
    "                    \n",
    "        \n",
    "\n",
    "'''\n",
    "# SAMPLE CALL\n",
    "'''\n",
    "\n",
    "obj = static_data_fetcher(base_path='./')\n",
    "result = obj.fetch_saved_html(120748461)\n",
    "result.keys()"
   ]
  },
  {
   "cell_type": "code",
   "execution_count": 13,
   "id": "atomic-bradford",
   "metadata": {},
   "outputs": [
    {
     "data": {
      "text/plain": [
       "'<div>            <script src=\"https://cdnjs.cloudflare.com/ajax/libs/mathjax/2.7.5/MathJax.js?config=TeX-AMS-MML_SVG\"></script><script type=\"text/javascript\">if (window.MathJax) {MathJax.Hub.Config({SVG: {font: \"STIX-Web\"}});}</script>                <script type=\"text/javascript\">window.PlotlyConfig = {MathJaxConfig: \\'local\\'};</script>\\n        <script src=\"https://cdn.plot.ly/plotly-latest.min.js\"></script>                <div id=\"c1b38265-f92b-4cfa-ba04-c44eb133f090\" class=\"plotly-graph-div\" style=\"height:100%; width:100%;\"></div>            <script type=\"text/javascript\">                                    window.PLOTLYENV=window.PLOTLYENV || {};                                    if (document.getElementById(\"c1b38265-f92b-4cfa-ba04-c44eb133f090\")) {                    Plotly.newPlot(                        \"c1b38265-f92b-4cfa-ba04-c44eb133f090\",                        [{\"branchvalues\": \"total\", \"domain\": {\"x\": [0.0, 1.0], \"y\": [0.0, 1.0]}, \"hovertemplate\": \"labels=%{label}<br>count=%{value}<br>parent=%{parent}<br>id=%{id}<extra></extra>\", \"ids\": [\"44/4418/441820\", \"94/9403/940340\", \"94/9403/940360\", \"44/4418\", \"94/9403\", \"44\", \"94\"], \"labels\": [\"441820\", \"940340\", \"940360\", \"4418\", \"9403\", \"44\", \"94\"], \"name\": \"\", \"parents\": [\"44/4418\", \"94/9403\", \"94/9403\", \"44\", \"94\", \"\", \"\"], \"type\": \"sunburst\", \"values\": [1, 358, 106, 1, 464, 1, 464]}],                        {\"legend\": {\"tracegroupgap\": 0}, \"margin\": {\"b\": 0, \"l\": 0, \"r\": 0, \"t\": 0}, \"template\": {\"data\": {\"bar\": [{\"error_x\": {\"color\": \"#2a3f5f\"}, \"error_y\": {\"color\": \"#2a3f5f\"}, \"marker\": {\"line\": {\"color\": \"#E5ECF6\", \"width\": 0.5}}, \"type\": \"bar\"}], \"barpolar\": [{\"marker\": {\"line\": {\"color\": \"#E5ECF6\", \"width\": 0.5}}, \"type\": \"barpolar\"}], \"carpet\": [{\"aaxis\": {\"endlinecolor\": \"#2a3f5f\", \"gridcolor\": \"white\", \"linecolor\": \"white\", \"minorgridcolor\": \"white\", \"startlinecolor\": \"#2a3f5f\"}, \"baxis\": {\"endlinecolor\": \"#2a3f5f\", \"gridcolor\": \"white\", \"linecolor\": \"white\", \"minorgridcolor\": \"white\", \"startlinecolor\": \"#2a3f5f\"}, \"type\": \"carpet\"}], \"choropleth\": [{\"colorbar\": {\"outlinewidth\": 0, \"ticks\": \"\"}, \"type\": \"choropleth\"}], \"contour\": [{\"colorbar\": {\"outlinewidth\": 0, \"ticks\": \"\"}, \"colorscale\": [[0.0, \"#0d0887\"], [0.1111111111111111, \"#46039f\"], [0.2222222222222222, \"#7201a8\"], [0.3333333333333333, \"#9c179e\"], [0.4444444444444444, \"#bd3786\"], [0.5555555555555556, \"#d8576b\"], [0.6666666666666666, \"#ed7953\"], [0.7777777777777778, \"#fb9f3a\"], [0.8888888888888888, \"#fdca26\"], [1.0, \"#f0f921\"]], \"type\": \"contour\"}], \"contourcarpet\": [{\"colorbar\": {\"outlinewidth\": 0, \"ticks\": \"\"}, \"type\": \"contourcarpet\"}], \"heatmap\": [{\"colorbar\": {\"outlinewidth\": 0, \"ticks\": \"\"}, \"colorscale\": [[0.0, \"#0d0887\"], [0.1111111111111111, \"#46039f\"], [0.2222222222222222, \"#7201a8\"], [0.3333333333333333, \"#9c179e\"], [0.4444444444444444, \"#bd3786\"], [0.5555555555555556, \"#d8576b\"], [0.6666666666666666, \"#ed7953\"], [0.7777777777777778, \"#fb9f3a\"], [0.8888888888888888, \"#fdca26\"], [1.0, \"#f0f921\"]], \"type\": \"heatmap\"}], \"heatmapgl\": [{\"colorbar\": {\"outlinewidth\": 0, \"ticks\": \"\"}, \"colorscale\": [[0.0, \"#0d0887\"], [0.1111111111111111, \"#46039f\"], [0.2222222222222222, \"#7201a8\"], [0.3333333333333333, \"#9c179e\"], [0.4444444444444444, \"#bd3786\"], [0.5555555555555556, \"#d8576b\"], [0.6666666666666666, \"#ed7953\"], [0.7777777777777778, \"#fb9f3a\"], [0.8888888888888888, \"#fdca26\"], [1.0, \"#f0f921\"]], \"type\": \"heatmapgl\"}], \"histogram\": [{\"marker\": {\"colorbar\": {\"outlinewidth\": 0, \"ticks\": \"\"}}, \"type\": \"histogram\"}], \"histogram2d\": [{\"colorbar\": {\"outlinewidth\": 0, \"ticks\": \"\"}, \"colorscale\": [[0.0, \"#0d0887\"], [0.1111111111111111, \"#46039f\"], [0.2222222222222222, \"#7201a8\"], [0.3333333333333333, \"#9c179e\"], [0.4444444444444444, \"#bd3786\"], [0.5555555555555556, \"#d8576b\"], [0.6666666666666666, \"#ed7953\"], [0.7777777777777778, \"#fb9f3a\"], [0.8888888888888888, \"#fdca26\"], [1.0, \"#f0f921\"]], \"type\": \"histogram2d\"}], \"histogram2dcontour\": [{\"colorbar\": {\"outlinewidth\": 0, \"ticks\": \"\"}, \"colorscale\": [[0.0, \"#0d0887\"], [0.1111111111111111, \"#46039f\"], [0.2222222222222222, \"#7201a8\"], [0.3333333333333333, \"#9c179e\"], [0.4444444444444444, \"#bd3786\"], [0.5555555555555556, \"#d8576b\"], [0.6666666666666666, \"#ed7953\"], [0.7777777777777778, \"#fb9f3a\"], [0.8888888888888888, \"#fdca26\"], [1.0, \"#f0f921\"]], \"type\": \"histogram2dcontour\"}], \"mesh3d\": [{\"colorbar\": {\"outlinewidth\": 0, \"ticks\": \"\"}, \"type\": \"mesh3d\"}], \"parcoords\": [{\"line\": {\"colorbar\": {\"outlinewidth\": 0, \"ticks\": \"\"}}, \"type\": \"parcoords\"}], \"pie\": [{\"automargin\": true, \"type\": \"pie\"}], \"scatter\": [{\"marker\": {\"colorbar\": {\"outlinewidth\": 0, \"ticks\": \"\"}}, \"type\": \"scatter\"}], \"scatter3d\": [{\"line\": {\"colorbar\": {\"outlinewidth\": 0, \"ticks\": \"\"}}, \"marker\": {\"colorbar\": {\"outlinewidth\": 0, \"ticks\": \"\"}}, \"type\": \"scatter3d\"}], \"scattercarpet\": [{\"marker\": {\"colorbar\": {\"outlinewidth\": 0, \"ticks\": \"\"}}, \"type\": \"scattercarpet\"}], \"scattergeo\": [{\"marker\": {\"colorbar\": {\"outlinewidth\": 0, \"ticks\": \"\"}}, \"type\": \"scattergeo\"}], \"scattergl\": [{\"marker\": {\"colorbar\": {\"outlinewidth\": 0, \"ticks\": \"\"}}, \"type\": \"scattergl\"}], \"scattermapbox\": [{\"marker\": {\"colorbar\": {\"outlinewidth\": 0, \"ticks\": \"\"}}, \"type\": \"scattermapbox\"}], \"scatterpolar\": [{\"marker\": {\"colorbar\": {\"outlinewidth\": 0, \"ticks\": \"\"}}, \"type\": \"scatterpolar\"}], \"scatterpolargl\": [{\"marker\": {\"colorbar\": {\"outlinewidth\": 0, \"ticks\": \"\"}}, \"type\": \"scatterpolargl\"}], \"scatterternary\": [{\"marker\": {\"colorbar\": {\"outlinewidth\": 0, \"ticks\": \"\"}}, \"type\": \"scatterternary\"}], \"surface\": [{\"colorbar\": {\"outlinewidth\": 0, \"ticks\": \"\"}, \"colorscale\": [[0.0, \"#0d0887\"], [0.1111111111111111, \"#46039f\"], [0.2222222222222222, \"#7201a8\"], [0.3333333333333333, \"#9c179e\"], [0.4444444444444444, \"#bd3786\"], [0.5555555555555556, \"#d8576b\"], [0.6666666666666666, \"#ed7953\"], [0.7777777777777778, \"#fb9f3a\"], [0.8888888888888888, \"#fdca26\"], [1.0, \"#f0f921\"]], \"type\": \"surface\"}], \"table\": [{\"cells\": {\"fill\": {\"color\": \"#EBF0F8\"}, \"line\": {\"color\": \"white\"}}, \"header\": {\"fill\": {\"color\": \"#C8D4E3\"}, \"line\": {\"color\": \"white\"}}, \"type\": \"table\"}]}, \"layout\": {\"annotationdefaults\": {\"arrowcolor\": \"#2a3f5f\", \"arrowhead\": 0, \"arrowwidth\": 1}, \"autotypenumbers\": \"strict\", \"coloraxis\": {\"colorbar\": {\"outlinewidth\": 0, \"ticks\": \"\"}}, \"colorscale\": {\"diverging\": [[0, \"#8e0152\"], [0.1, \"#c51b7d\"], [0.2, \"#de77ae\"], [0.3, \"#f1b6da\"], [0.4, \"#fde0ef\"], [0.5, \"#f7f7f7\"], [0.6, \"#e6f5d0\"], [0.7, \"#b8e186\"], [0.8, \"#7fbc41\"], [0.9, \"#4d9221\"], [1, \"#276419\"]], \"sequential\": [[0.0, \"#0d0887\"], [0.1111111111111111, \"#46039f\"], [0.2222222222222222, \"#7201a8\"], [0.3333333333333333, \"#9c179e\"], [0.4444444444444444, \"#bd3786\"], [0.5555555555555556, \"#d8576b\"], [0.6666666666666666, \"#ed7953\"], [0.7777777777777778, \"#fb9f3a\"], [0.8888888888888888, \"#fdca26\"], [1.0, \"#f0f921\"]], \"sequentialminus\": [[0.0, \"#0d0887\"], [0.1111111111111111, \"#46039f\"], [0.2222222222222222, \"#7201a8\"], [0.3333333333333333, \"#9c179e\"], [0.4444444444444444, \"#bd3786\"], [0.5555555555555556, \"#d8576b\"], [0.6666666666666666, \"#ed7953\"], [0.7777777777777778, \"#fb9f3a\"], [0.8888888888888888, \"#fdca26\"], [1.0, \"#f0f921\"]]}, \"colorway\": [\"#636efa\", \"#EF553B\", \"#00cc96\", \"#ab63fa\", \"#FFA15A\", \"#19d3f3\", \"#FF6692\", \"#B6E880\", \"#FF97FF\", \"#FECB52\"], \"font\": {\"color\": \"#2a3f5f\"}, \"geo\": {\"bgcolor\": \"white\", \"lakecolor\": \"white\", \"landcolor\": \"#E5ECF6\", \"showlakes\": true, \"showland\": true, \"subunitcolor\": \"white\"}, \"hoverlabel\": {\"align\": \"left\"}, \"hovermode\": \"closest\", \"mapbox\": {\"style\": \"light\"}, \"paper_bgcolor\": \"white\", \"plot_bgcolor\": \"#E5ECF6\", \"polar\": {\"angularaxis\": {\"gridcolor\": \"white\", \"linecolor\": \"white\", \"ticks\": \"\"}, \"bgcolor\": \"#E5ECF6\", \"radialaxis\": {\"gridcolor\": \"white\", \"linecolor\": \"white\", \"ticks\": \"\"}}, \"scene\": {\"xaxis\": {\"backgroundcolor\": \"#E5ECF6\", \"gridcolor\": \"white\", \"gridwidth\": 2, \"linecolor\": \"white\", \"showbackground\": true, \"ticks\": \"\", \"zerolinecolor\": \"white\"}, \"yaxis\": {\"backgroundcolor\": \"#E5ECF6\", \"gridcolor\": \"white\", \"gridwidth\": 2, \"linecolor\": \"white\", \"showbackground\": true, \"ticks\": \"\", \"zerolinecolor\": \"white\"}, \"zaxis\": {\"backgroundcolor\": \"#E5ECF6\", \"gridcolor\": \"white\", \"gridwidth\": 2, \"linecolor\": \"white\", \"showbackground\": true, \"ticks\": \"\", \"zerolinecolor\": \"white\"}}, \"shapedefaults\": {\"line\": {\"color\": \"#2a3f5f\"}}, \"ternary\": {\"aaxis\": {\"gridcolor\": \"white\", \"linecolor\": \"white\", \"ticks\": \"\"}, \"baxis\": {\"gridcolor\": \"white\", \"linecolor\": \"white\", \"ticks\": \"\"}, \"bgcolor\": \"#E5ECF6\", \"caxis\": {\"gridcolor\": \"white\", \"linecolor\": \"white\", \"ticks\": \"\"}}, \"title\": {\"x\": 0.05}, \"xaxis\": {\"automargin\": true, \"gridcolor\": \"white\", \"linecolor\": \"white\", \"ticks\": \"\", \"title\": {\"standoff\": 15}, \"zerolinecolor\": \"white\", \"zerolinewidth\": 2}, \"yaxis\": {\"automargin\": true, \"gridcolor\": \"white\", \"linecolor\": \"white\", \"ticks\": \"\", \"title\": {\"standoff\": 15}, \"zerolinecolor\": \"white\", \"zerolinewidth\": 2}}}, \"uniformtext\": {\"minsize\": 16, \"mode\": \"hide\"}},                        {\"responsive\": true}                    )                };                            </script>        </div>'"
      ]
     },
     "execution_count": 13,
     "metadata": {},
     "output_type": "execute_result"
    }
   ],
   "source": [
    "result['HSCodeViz']['Shipper']"
   ]
  },
  {
   "cell_type": "code",
   "execution_count": null,
   "id": "egyptian-bonus",
   "metadata": {},
   "outputs": [],
   "source": []
  }
 ],
 "metadata": {
  "kernelspec": {
   "display_name": "Python 3",
   "language": "python",
   "name": "python3"
  },
  "language_info": {
   "codemirror_mode": {
    "name": "ipython",
    "version": 3
   },
   "file_extension": ".py",
   "mimetype": "text/x-python",
   "name": "python",
   "nbconvert_exporter": "python",
   "pygments_lexer": "ipython3",
   "version": "3.7.9"
  }
 },
 "nbformat": 4,
 "nbformat_minor": 5
}
