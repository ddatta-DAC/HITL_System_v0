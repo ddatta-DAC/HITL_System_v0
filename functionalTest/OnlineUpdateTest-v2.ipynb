{
 "cells": [
  {
   "cell_type": "code",
   "execution_count": 1,
   "id": "aggressive-mustang",
   "metadata": {
    "scrolled": true
   },
   "outputs": [
    {
     "name": "stdout",
     "output_type": "stream",
     "text": [
      "INFO: Pandarallel will run on 40 workers.\n",
      "INFO: Pandarallel will use Memory file system to transfer data between the main process and workers.\n"
     ]
    }
   ],
   "source": [
    "import sys\n",
    "sys.path.append('./..')\n",
    "import os \n",
    "\n",
    "%load_ext autoreload\n",
    "%autoreload 2\n",
    "\n",
    "from onlineUpdateModule.system_run import onlineUpdateExecutor\n",
    "from onlineUpdateModule  import data_handler"
   ]
  },
  {
   "cell_type": "code",
   "execution_count": 2,
   "id": "fatal-material",
   "metadata": {
    "scrolled": true
   },
   "outputs": [
    {
     "name": "stdout",
     "output_type": "stream",
     "text": [
      "Executed SQL >  CREATE TABLE IF NOT EXISTS Carrier (Carrier BIGINT PRIMARY KEY, label INT);\n",
      "Executed SQL >  CREATE TABLE IF NOT EXISTS ConsigneePanjivaID (ConsigneePanjivaID BIGINT PRIMARY KEY, label INT);\n",
      "Executed SQL >  CREATE TABLE IF NOT EXISTS HSCode (HSCode BIGINT PRIMARY KEY, label INT);\n",
      "Executed SQL >  CREATE TABLE IF NOT EXISTS PortOfLading (PortOfLading BIGINT PRIMARY KEY, label INT);\n",
      "Executed SQL >  CREATE TABLE IF NOT EXISTS PortOfUnlading (PortOfUnlading BIGINT PRIMARY KEY, label INT);\n",
      "Executed SQL >  CREATE TABLE IF NOT EXISTS ShipmentDestination (ShipmentDestination BIGINT PRIMARY KEY, label INT);\n",
      "Executed SQL >  CREATE TABLE IF NOT EXISTS ShipmentOrigin (ShipmentOrigin BIGINT PRIMARY KEY, label INT);\n",
      "Executed SQL >  CREATE TABLE IF NOT EXISTS ShipperPanjivaID (ShipperPanjivaID BIGINT PRIMARY KEY, label INT);\n"
     ]
    }
   ],
   "source": [
    "data_handler_obj = data_handler.data_handler(\n",
    "    DATA_LOC ='./../generated_data_v1/us_import/',\n",
    "    subDIR= '01_2016',\n",
    "    embedding_data_path = './../records2graph/saved_model_data',\n",
    "    anomaly_result_dir =  './../AD_model/combined_output',\n",
    "    data_store_dir = './tmp'\n",
    ")"
   ]
  },
  {
   "cell_type": "code",
   "execution_count": 3,
   "id": "vital-sword",
   "metadata": {
    "scrolled": true
   },
   "outputs": [
    {
     "name": "stderr",
     "output_type": "stream",
     "text": [
      "100%|██████████| 1000/1000 [00:00<00:00, 6589.10it/s]"
     ]
    },
    {
     "name": "stdout",
     "output_type": "stream",
     "text": [
      "[Debug] >>>> `record` class set up\n",
      "[Debug] >>>> Embedding dimension 64\n",
      "[Debug] >>>> Data obtained ( working records)  1000\n",
      "[Debug] >>>> Record objects created  1000\n"
     ]
    },
    {
     "name": "stderr",
     "output_type": "stream",
     "text": [
      "\n",
      "100%|██████████| 5000/5000 [00:00<00:00, 6532.03it/s]\n",
      "  1%|          | 62/10000 [00:00<00:30, 322.83it/s]"
     ]
    },
    {
     "name": "stdout",
     "output_type": "stream",
     "text": [
      "Step 1 Loss 0.7361\n"
     ]
    },
    {
     "name": "stderr",
     "output_type": "stream",
     "text": [
      "  6%|▌         | 550/10000 [00:01<00:23, 399.97it/s]"
     ]
    },
    {
     "name": "stdout",
     "output_type": "stream",
     "text": [
      "Step 501 Loss 0.3084\n"
     ]
    },
    {
     "name": "stderr",
     "output_type": "stream",
     "text": [
      " 10%|█         | 1041/10000 [00:02<00:22, 401.25it/s]"
     ]
    },
    {
     "name": "stdout",
     "output_type": "stream",
     "text": [
      "Step 1001 Loss 0.2201\n"
     ]
    },
    {
     "name": "stderr",
     "output_type": "stream",
     "text": [
      " 16%|█▌        | 1571/10000 [00:03<00:21, 397.11it/s]"
     ]
    },
    {
     "name": "stdout",
     "output_type": "stream",
     "text": [
      "Step 1501 Loss 0.2772\n"
     ]
    },
    {
     "name": "stderr",
     "output_type": "stream",
     "text": [
      " 21%|██        | 2060/10000 [00:05<00:19, 400.65it/s]"
     ]
    },
    {
     "name": "stdout",
     "output_type": "stream",
     "text": [
      "Step 2001 Loss 0.2580\n"
     ]
    },
    {
     "name": "stderr",
     "output_type": "stream",
     "text": [
      " 26%|██▌       | 2551/10000 [00:06<00:18, 398.10it/s]"
     ]
    },
    {
     "name": "stdout",
     "output_type": "stream",
     "text": [
      "Step 2501 Loss 0.3284\n"
     ]
    },
    {
     "name": "stderr",
     "output_type": "stream",
     "text": [
      " 31%|███       | 3075/10000 [00:07<00:17, 397.15it/s]"
     ]
    },
    {
     "name": "stdout",
     "output_type": "stream",
     "text": [
      "Step 3001 Loss 0.1711\n"
     ]
    },
    {
     "name": "stderr",
     "output_type": "stream",
     "text": [
      " 36%|███▌      | 3562/10000 [00:08<00:16, 398.76it/s]"
     ]
    },
    {
     "name": "stdout",
     "output_type": "stream",
     "text": [
      "Step 3501 Loss 0.2049\n"
     ]
    },
    {
     "name": "stderr",
     "output_type": "stream",
     "text": [
      " 40%|████      | 4045/10000 [00:10<00:14, 399.43it/s]"
     ]
    },
    {
     "name": "stdout",
     "output_type": "stream",
     "text": [
      "Step 4001 Loss 0.2717\n"
     ]
    },
    {
     "name": "stderr",
     "output_type": "stream",
     "text": [
      " 46%|████▌     | 4568/10000 [00:11<00:13, 398.56it/s]"
     ]
    },
    {
     "name": "stdout",
     "output_type": "stream",
     "text": [
      "Step 4501 Loss 0.2547\n"
     ]
    },
    {
     "name": "stderr",
     "output_type": "stream",
     "text": [
      " 51%|█████     | 5058/10000 [00:12<00:12, 400.46it/s]"
     ]
    },
    {
     "name": "stdout",
     "output_type": "stream",
     "text": [
      "Step 5001 Loss 0.2504\n"
     ]
    },
    {
     "name": "stderr",
     "output_type": "stream",
     "text": [
      " 55%|█████▌    | 5544/10000 [00:13<00:11, 399.19it/s]"
     ]
    },
    {
     "name": "stdout",
     "output_type": "stream",
     "text": [
      "Step 5501 Loss 0.2204\n"
     ]
    },
    {
     "name": "stderr",
     "output_type": "stream",
     "text": [
      " 61%|██████    | 6065/10000 [00:15<00:09, 397.88it/s]"
     ]
    },
    {
     "name": "stdout",
     "output_type": "stream",
     "text": [
      "Step 6001 Loss 0.1572\n"
     ]
    },
    {
     "name": "stderr",
     "output_type": "stream",
     "text": [
      " 66%|██████▌   | 6555/10000 [00:16<00:08, 400.59it/s]"
     ]
    },
    {
     "name": "stdout",
     "output_type": "stream",
     "text": [
      "Step 6501 Loss 0.2373\n"
     ]
    },
    {
     "name": "stderr",
     "output_type": "stream",
     "text": [
      " 70%|███████   | 7046/10000 [00:17<00:07, 400.56it/s]"
     ]
    },
    {
     "name": "stdout",
     "output_type": "stream",
     "text": [
      "Step 7001 Loss 0.1786\n"
     ]
    },
    {
     "name": "stderr",
     "output_type": "stream",
     "text": [
      " 76%|███████▌  | 7570/10000 [00:19<00:06, 398.06it/s]"
     ]
    },
    {
     "name": "stdout",
     "output_type": "stream",
     "text": [
      "Step 7501 Loss 0.1651\n"
     ]
    },
    {
     "name": "stderr",
     "output_type": "stream",
     "text": [
      " 81%|████████  | 8060/10000 [00:20<00:04, 400.71it/s]"
     ]
    },
    {
     "name": "stdout",
     "output_type": "stream",
     "text": [
      "Step 8001 Loss 0.2225\n"
     ]
    },
    {
     "name": "stderr",
     "output_type": "stream",
     "text": [
      " 86%|████████▌ | 8550/10000 [00:21<00:03, 389.59it/s]"
     ]
    },
    {
     "name": "stdout",
     "output_type": "stream",
     "text": [
      "Step 8501 Loss 0.2017\n"
     ]
    },
    {
     "name": "stderr",
     "output_type": "stream",
     "text": [
      " 90%|█████████ | 9041/10000 [00:22<00:02, 401.60it/s]"
     ]
    },
    {
     "name": "stdout",
     "output_type": "stream",
     "text": [
      "Step 9001 Loss 0.2349\n"
     ]
    },
    {
     "name": "stderr",
     "output_type": "stream",
     "text": [
      " 96%|█████████▌| 9574/10000 [00:24<00:01, 400.93it/s]"
     ]
    },
    {
     "name": "stdout",
     "output_type": "stream",
     "text": [
      "Step 9501 Loss 0.1687\n"
     ]
    },
    {
     "name": "stderr",
     "output_type": "stream",
     "text": [
      "100%|██████████| 10000/10000 [00:25<00:00, 397.71it/s]\n",
      "  2%|▏         | 84/5000 [00:00<00:11, 414.91it/s]"
     ]
    },
    {
     "name": "stdout",
     "output_type": "stream",
     "text": [
      "Step 1 Loss 0.3337\n"
     ]
    },
    {
     "name": "stderr",
     "output_type": "stream",
     "text": [
      " 11%|█         | 546/5000 [00:01<00:10, 412.55it/s]"
     ]
    },
    {
     "name": "stdout",
     "output_type": "stream",
     "text": [
      "Step 501 Loss 0.0147\n"
     ]
    },
    {
     "name": "stderr",
     "output_type": "stream",
     "text": [
      " 21%|██        | 1049/5000 [00:02<00:09, 409.65it/s]"
     ]
    },
    {
     "name": "stdout",
     "output_type": "stream",
     "text": [
      "Step 1001 Loss 0.0099\n"
     ]
    },
    {
     "name": "stderr",
     "output_type": "stream",
     "text": [
      " 31%|███       | 1547/5000 [00:03<00:08, 400.94it/s]"
     ]
    },
    {
     "name": "stdout",
     "output_type": "stream",
     "text": [
      "Step 1501 Loss 0.0075\n"
     ]
    },
    {
     "name": "stderr",
     "output_type": "stream",
     "text": [
      " 42%|████▏     | 2080/5000 [00:05<00:07, 406.32it/s]"
     ]
    },
    {
     "name": "stdout",
     "output_type": "stream",
     "text": [
      "Step 2001 Loss 0.0031\n"
     ]
    },
    {
     "name": "stderr",
     "output_type": "stream",
     "text": [
      " 51%|█████     | 2560/5000 [00:06<00:06, 387.79it/s]"
     ]
    },
    {
     "name": "stdout",
     "output_type": "stream",
     "text": [
      "Step 2501 Loss 0.0030\n"
     ]
    },
    {
     "name": "stderr",
     "output_type": "stream",
     "text": [
      " 61%|██████    | 3050/5000 [00:07<00:04, 401.09it/s]"
     ]
    },
    {
     "name": "stdout",
     "output_type": "stream",
     "text": [
      "Step 3001 Loss 0.0014\n"
     ]
    },
    {
     "name": "stderr",
     "output_type": "stream",
     "text": [
      " 71%|███████▏  | 3573/5000 [00:08<00:03, 392.70it/s]"
     ]
    },
    {
     "name": "stdout",
     "output_type": "stream",
     "text": [
      "Step 3501 Loss 0.0010\n"
     ]
    },
    {
     "name": "stderr",
     "output_type": "stream",
     "text": [
      " 81%|████████  | 4058/5000 [00:10<00:02, 392.98it/s]"
     ]
    },
    {
     "name": "stdout",
     "output_type": "stream",
     "text": [
      "Step 4001 Loss 0.0004\n"
     ]
    },
    {
     "name": "stderr",
     "output_type": "stream",
     "text": [
      " 91%|█████████ | 4545/5000 [00:11<00:01, 391.00it/s]"
     ]
    },
    {
     "name": "stdout",
     "output_type": "stream",
     "text": [
      "Step 4501 Loss 0.0002\n"
     ]
    },
    {
     "name": "stderr",
     "output_type": "stream",
     "text": [
      "100%|██████████| 5000/5000 [00:12<00:00, 398.77it/s]\n"
     ]
    },
    {
     "name": "stdout",
     "output_type": "stream",
     "text": [
      "[Debug] >>>> self.classifier_obj created \n",
      "[Debug] >>>> self.W_initial initialized \n",
      "[Debug] >>>> Creating GD object \n",
      "[Debug] >>>> Successfully created GD object \n",
      "[Debug] >>>> Successfully set weights in the GD object \n"
     ]
    }
   ],
   "source": [
    "onlineObj = onlineUpdateExecutor(\n",
    "    data_handler_obj,\n",
    "    update_at_every=4\n",
    ")"
   ]
  },
  {
   "cell_type": "code",
   "execution_count": 4,
   "id": "forward-structure",
   "metadata": {},
   "outputs": [
    {
     "data": {
      "text/html": [
       "<div>\n",
       "<style scoped>\n",
       "    .dataframe tbody tr th:only-of-type {\n",
       "        vertical-align: middle;\n",
       "    }\n",
       "\n",
       "    .dataframe tbody tr th {\n",
       "        vertical-align: top;\n",
       "    }\n",
       "\n",
       "    .dataframe thead th {\n",
       "        text-align: right;\n",
       "    }\n",
       "</style>\n",
       "<table border=\"1\" class=\"dataframe\">\n",
       "  <thead>\n",
       "    <tr style=\"text-align: right;\">\n",
       "      <th></th>\n",
       "      <th>PanjivaRecordID</th>\n",
       "      <th>original_score</th>\n",
       "      <th>cur_score</th>\n",
       "      <th>delta</th>\n",
       "      <th>Carrier</th>\n",
       "      <th>ConsigneePanjivaID</th>\n",
       "      <th>HSCode</th>\n",
       "      <th>PortOfLading</th>\n",
       "      <th>PortOfUnlading</th>\n",
       "      <th>ShipmentDestination</th>\n",
       "      <th>ShipmentOrigin</th>\n",
       "      <th>ShipperPanjivaID</th>\n",
       "      <th>label</th>\n",
       "    </tr>\n",
       "  </thead>\n",
       "  <tbody>\n",
       "    <tr>\n",
       "      <th>0</th>\n",
       "      <td>120901356</td>\n",
       "      <td>0.962200</td>\n",
       "      <td>0.962200</td>\n",
       "      <td>0</td>\n",
       "      <td>532</td>\n",
       "      <td>5743</td>\n",
       "      <td>93</td>\n",
       "      <td>127</td>\n",
       "      <td>52</td>\n",
       "      <td>90</td>\n",
       "      <td>64</td>\n",
       "      <td>4996</td>\n",
       "      <td>0</td>\n",
       "    </tr>\n",
       "    <tr>\n",
       "      <th>1</th>\n",
       "      <td>121983692</td>\n",
       "      <td>0.955994</td>\n",
       "      <td>0.955994</td>\n",
       "      <td>0</td>\n",
       "      <td>473</td>\n",
       "      <td>1263</td>\n",
       "      <td>93</td>\n",
       "      <td>53</td>\n",
       "      <td>62</td>\n",
       "      <td>115</td>\n",
       "      <td>22</td>\n",
       "      <td>3107</td>\n",
       "      <td>0</td>\n",
       "    </tr>\n",
       "    <tr>\n",
       "      <th>2</th>\n",
       "      <td>121896803</td>\n",
       "      <td>1.026432</td>\n",
       "      <td>1.026432</td>\n",
       "      <td>0</td>\n",
       "      <td>390</td>\n",
       "      <td>4508</td>\n",
       "      <td>93</td>\n",
       "      <td>246</td>\n",
       "      <td>17</td>\n",
       "      <td>117</td>\n",
       "      <td>21</td>\n",
       "      <td>6574</td>\n",
       "      <td>0</td>\n",
       "    </tr>\n",
       "    <tr>\n",
       "      <th>3</th>\n",
       "      <td>121682646</td>\n",
       "      <td>0.990481</td>\n",
       "      <td>0.990481</td>\n",
       "      <td>0</td>\n",
       "      <td>73</td>\n",
       "      <td>5129</td>\n",
       "      <td>88</td>\n",
       "      <td>246</td>\n",
       "      <td>44</td>\n",
       "      <td>81</td>\n",
       "      <td>21</td>\n",
       "      <td>2498</td>\n",
       "      <td>0</td>\n",
       "    </tr>\n",
       "    <tr>\n",
       "      <th>4</th>\n",
       "      <td>121852671</td>\n",
       "      <td>0.988407</td>\n",
       "      <td>0.988407</td>\n",
       "      <td>0</td>\n",
       "      <td>169</td>\n",
       "      <td>4827</td>\n",
       "      <td>93</td>\n",
       "      <td>69</td>\n",
       "      <td>17</td>\n",
       "      <td>36</td>\n",
       "      <td>112</td>\n",
       "      <td>5962</td>\n",
       "      <td>0</td>\n",
       "    </tr>\n",
       "    <tr>\n",
       "      <th>5</th>\n",
       "      <td>121048913</td>\n",
       "      <td>0.987363</td>\n",
       "      <td>0.987363</td>\n",
       "      <td>0</td>\n",
       "      <td>271</td>\n",
       "      <td>231</td>\n",
       "      <td>62</td>\n",
       "      <td>169</td>\n",
       "      <td>63</td>\n",
       "      <td>116</td>\n",
       "      <td>21</td>\n",
       "      <td>2355</td>\n",
       "      <td>0</td>\n",
       "    </tr>\n",
       "    <tr>\n",
       "      <th>6</th>\n",
       "      <td>121465508</td>\n",
       "      <td>0.980275</td>\n",
       "      <td>0.980275</td>\n",
       "      <td>0</td>\n",
       "      <td>247</td>\n",
       "      <td>1615</td>\n",
       "      <td>50</td>\n",
       "      <td>6</td>\n",
       "      <td>8</td>\n",
       "      <td>21</td>\n",
       "      <td>21</td>\n",
       "      <td>5258</td>\n",
       "      <td>0</td>\n",
       "    </tr>\n",
       "    <tr>\n",
       "      <th>7</th>\n",
       "      <td>121684779</td>\n",
       "      <td>0.982273</td>\n",
       "      <td>0.982273</td>\n",
       "      <td>0</td>\n",
       "      <td>103</td>\n",
       "      <td>1756</td>\n",
       "      <td>88</td>\n",
       "      <td>218</td>\n",
       "      <td>63</td>\n",
       "      <td>116</td>\n",
       "      <td>21</td>\n",
       "      <td>6575</td>\n",
       "      <td>0</td>\n",
       "    </tr>\n",
       "    <tr>\n",
       "      <th>8</th>\n",
       "      <td>121097684</td>\n",
       "      <td>1.006346</td>\n",
       "      <td>1.006346</td>\n",
       "      <td>0</td>\n",
       "      <td>438</td>\n",
       "      <td>442</td>\n",
       "      <td>39</td>\n",
       "      <td>235</td>\n",
       "      <td>44</td>\n",
       "      <td>81</td>\n",
       "      <td>47</td>\n",
       "      <td>5822</td>\n",
       "      <td>0</td>\n",
       "    </tr>\n",
       "    <tr>\n",
       "      <th>9</th>\n",
       "      <td>121973404</td>\n",
       "      <td>0.975609</td>\n",
       "      <td>0.975609</td>\n",
       "      <td>0</td>\n",
       "      <td>368</td>\n",
       "      <td>29</td>\n",
       "      <td>93</td>\n",
       "      <td>114</td>\n",
       "      <td>61</td>\n",
       "      <td>113</td>\n",
       "      <td>112</td>\n",
       "      <td>1624</td>\n",
       "      <td>0</td>\n",
       "    </tr>\n",
       "  </tbody>\n",
       "</table>\n",
       "</div>"
      ],
      "text/plain": [
       "   PanjivaRecordID  original_score  cur_score  delta  Carrier  \\\n",
       "0        120901356        0.962200   0.962200      0      532   \n",
       "1        121983692        0.955994   0.955994      0      473   \n",
       "2        121896803        1.026432   1.026432      0      390   \n",
       "3        121682646        0.990481   0.990481      0       73   \n",
       "4        121852671        0.988407   0.988407      0      169   \n",
       "5        121048913        0.987363   0.987363      0      271   \n",
       "6        121465508        0.980275   0.980275      0      247   \n",
       "7        121684779        0.982273   0.982273      0      103   \n",
       "8        121097684        1.006346   1.006346      0      438   \n",
       "9        121973404        0.975609   0.975609      0      368   \n",
       "\n",
       "   ConsigneePanjivaID  HSCode  PortOfLading  PortOfUnlading  \\\n",
       "0                5743      93           127              52   \n",
       "1                1263      93            53              62   \n",
       "2                4508      93           246              17   \n",
       "3                5129      88           246              44   \n",
       "4                4827      93            69              17   \n",
       "5                 231      62           169              63   \n",
       "6                1615      50             6               8   \n",
       "7                1756      88           218              63   \n",
       "8                 442      39           235              44   \n",
       "9                  29      93           114              61   \n",
       "\n",
       "   ShipmentDestination  ShipmentOrigin  ShipperPanjivaID  label  \n",
       "0                   90              64              4996      0  \n",
       "1                  115              22              3107      0  \n",
       "2                  117              21              6574      0  \n",
       "3                   81              21              2498      0  \n",
       "4                   36             112              5962      0  \n",
       "5                  116              21              2355      0  \n",
       "6                   21              21              5258      0  \n",
       "7                  116              21              6575      0  \n",
       "8                   81              47              5822      0  \n",
       "9                  113             112              1624      0  "
      ]
     },
     "execution_count": 4,
     "metadata": {},
     "output_type": "execute_result"
    }
   ],
   "source": [
    "onlineObj.obtain_current_unlabelled_output().head(10)"
   ]
  },
  {
   "cell_type": "code",
   "execution_count": 5,
   "id": "divine-sarah",
   "metadata": {},
   "outputs": [
    {
     "name": "stdout",
     "output_type": "stream",
     "text": [
      "register_entityInteraction :: Carrier 104 HSCode 18\n"
     ]
    }
   ],
   "source": [
    "onlineObj.register_feedback_input(\n",
    "    recordID = 121236951, \n",
    "    label=1, \n",
    "    entity_pair_list = [('Carrier','HSCode')],\n",
    "    entity_list = []\n",
    ")"
   ]
  },
  {
   "cell_type": "code",
   "execution_count": 6,
   "id": "meaningful-electron",
   "metadata": {},
   "outputs": [],
   "source": [
    "onlineObj.register_feedback_input(\n",
    "    recordID = 121211441, \n",
    "    label=1,\n",
    "    entity_pair_list = [('ConsigneePanjivaID','ShipmentDestination'), ('ShipmentDestination','ShipperPanjivaID')],\n",
    "    entity_list = []\n",
    ")"
   ]
  },
  {
   "cell_type": "code",
   "execution_count": 6,
   "id": "loving-finance",
   "metadata": {},
   "outputs": [
    {
     "name": "stdout",
     "output_type": "stream",
     "text": [
      "register_entityInteraction :: HSCode 63 ShipmentOrigin 21\n"
     ]
    }
   ],
   "source": [
    "onlineObj.register_feedback_input(\n",
    "    recordID = 121930431, \n",
    "    label=1,\n",
    "    entity_pair_list = [('HSCode', 'ShipmentOrigin')]\n",
    ")"
   ]
  },
  {
   "cell_type": "code",
   "execution_count": 7,
   "id": "urban-venture",
   "metadata": {},
   "outputs": [
    {
     "name": "stdout",
     "output_type": "stream",
     "text": [
      "register_entityInteraction :: Carrier 304 ShipperPanjivaID 5817\n"
     ]
    }
   ],
   "source": [
    "onlineObj.register_feedback_input(\n",
    "    recordID = 121314731, \n",
    "    label=1,\n",
    "    entity_pair_list = [('Carrier','ShipperPanjivaID')]\n",
    ")"
   ]
  },
  {
   "cell_type": "code",
   "execution_count": 8,
   "id": "relative-input",
   "metadata": {},
   "outputs": [
    {
     "name": "stdout",
     "output_type": "stream",
     "text": [
      "get_domainPairInteractionsRegistered::        PanjivaRecordID  Carrier  ConsigneePanjivaID  HSCode  PortOfLading  \\\n",
      "27529        121236951      104                 724      18           107   \n",
      "\n",
      "       PortOfUnlading  ShipmentDestination  ShipmentOrigin  ShipperPanjivaID  \n",
      "27529              17                   36              18              1458  \n",
      "121236951.0 ['Carrier_HSCode', 'Carrier_HSCode']\n",
      "get_domainPairInteractionsRegistered::       PanjivaRecordID  Carrier  ConsigneePanjivaID  HSCode  PortOfLading  \\\n",
      "1227        121930431      115                1961      63           169   \n",
      "\n",
      "      PortOfUnlading  ShipmentDestination  ShipmentOrigin  ShipperPanjivaID  \n",
      "1227              17                   36              21              5697  \n",
      "121930431.0 ['HSCode_ShipmentOrigin', 'HSCode_ShipmentOrigin']\n",
      "get_domainPairInteractionsRegistered::        PanjivaRecordID  Carrier  ConsigneePanjivaID  HSCode  PortOfLading  \\\n",
      "11987        121314731      304                2108      86           148   \n",
      "\n",
      "       PortOfUnlading  ShipmentDestination  ShipmentOrigin  ShipperPanjivaID  \n",
      "11987              17                   36              55              5817  \n",
      "121314731.0 ['Carrier_ShipperPanjivaID', 'Carrier_ShipperPanjivaID']\n",
      "__update_internal_model__:: flags [1, 1, 1]\n"
     ]
    }
   ],
   "source": [
    "onlineObj.__update_internal_model__()"
   ]
  },
  {
   "cell_type": "code",
   "execution_count": 9,
   "id": "funded-sacrifice",
   "metadata": {},
   "outputs": [
    {
     "data": {
      "text/html": [
       "<div>\n",
       "<style scoped>\n",
       "    .dataframe tbody tr th:only-of-type {\n",
       "        vertical-align: middle;\n",
       "    }\n",
       "\n",
       "    .dataframe tbody tr th {\n",
       "        vertical-align: top;\n",
       "    }\n",
       "\n",
       "    .dataframe thead th {\n",
       "        text-align: right;\n",
       "    }\n",
       "</style>\n",
       "<table border=\"1\" class=\"dataframe\">\n",
       "  <thead>\n",
       "    <tr style=\"text-align: right;\">\n",
       "      <th></th>\n",
       "      <th>PanjivaRecordID</th>\n",
       "      <th>original_score</th>\n",
       "      <th>cur_score</th>\n",
       "      <th>delta</th>\n",
       "      <th>Carrier</th>\n",
       "      <th>ConsigneePanjivaID</th>\n",
       "      <th>HSCode</th>\n",
       "      <th>PortOfLading</th>\n",
       "      <th>PortOfUnlading</th>\n",
       "      <th>ShipmentDestination</th>\n",
       "      <th>ShipmentOrigin</th>\n",
       "      <th>ShipperPanjivaID</th>\n",
       "      <th>label</th>\n",
       "    </tr>\n",
       "  </thead>\n",
       "  <tbody>\n",
       "    <tr>\n",
       "      <th>0</th>\n",
       "      <td>121236969</td>\n",
       "      <td>0.992889</td>\n",
       "      <td>0.992889</td>\n",
       "      <td>0.852519</td>\n",
       "      <td>104</td>\n",
       "      <td>2847</td>\n",
       "      <td>15</td>\n",
       "      <td>107</td>\n",
       "      <td>17</td>\n",
       "      <td>36</td>\n",
       "      <td>18</td>\n",
       "      <td>1458</td>\n",
       "      <td>0</td>\n",
       "    </tr>\n",
       "    <tr>\n",
       "      <th>1</th>\n",
       "      <td>121236952</td>\n",
       "      <td>0.992889</td>\n",
       "      <td>0.992889</td>\n",
       "      <td>0.852519</td>\n",
       "      <td>104</td>\n",
       "      <td>2847</td>\n",
       "      <td>15</td>\n",
       "      <td>107</td>\n",
       "      <td>17</td>\n",
       "      <td>36</td>\n",
       "      <td>18</td>\n",
       "      <td>1458</td>\n",
       "      <td>0</td>\n",
       "    </tr>\n",
       "    <tr>\n",
       "      <th>2</th>\n",
       "      <td>120923963</td>\n",
       "      <td>0.992889</td>\n",
       "      <td>0.992889</td>\n",
       "      <td>0.852519</td>\n",
       "      <td>104</td>\n",
       "      <td>2847</td>\n",
       "      <td>15</td>\n",
       "      <td>107</td>\n",
       "      <td>17</td>\n",
       "      <td>36</td>\n",
       "      <td>18</td>\n",
       "      <td>1458</td>\n",
       "      <td>0</td>\n",
       "    </tr>\n",
       "    <tr>\n",
       "      <th>3</th>\n",
       "      <td>120923964</td>\n",
       "      <td>0.997848</td>\n",
       "      <td>0.997848</td>\n",
       "      <td>0.852314</td>\n",
       "      <td>104</td>\n",
       "      <td>724</td>\n",
       "      <td>15</td>\n",
       "      <td>107</td>\n",
       "      <td>17</td>\n",
       "      <td>36</td>\n",
       "      <td>18</td>\n",
       "      <td>1524</td>\n",
       "      <td>0</td>\n",
       "    </tr>\n",
       "    <tr>\n",
       "      <th>4</th>\n",
       "      <td>120924097</td>\n",
       "      <td>1.021931</td>\n",
       "      <td>1.021931</td>\n",
       "      <td>0.755392</td>\n",
       "      <td>104</td>\n",
       "      <td>2847</td>\n",
       "      <td>19</td>\n",
       "      <td>107</td>\n",
       "      <td>17</td>\n",
       "      <td>36</td>\n",
       "      <td>18</td>\n",
       "      <td>1495</td>\n",
       "      <td>0</td>\n",
       "    </tr>\n",
       "    <tr>\n",
       "      <th>5</th>\n",
       "      <td>121926739</td>\n",
       "      <td>1.007296</td>\n",
       "      <td>1.007296</td>\n",
       "      <td>0.753394</td>\n",
       "      <td>104</td>\n",
       "      <td>2847</td>\n",
       "      <td>15</td>\n",
       "      <td>107</td>\n",
       "      <td>17</td>\n",
       "      <td>36</td>\n",
       "      <td>18</td>\n",
       "      <td>2123</td>\n",
       "      <td>0</td>\n",
       "    </tr>\n",
       "    <tr>\n",
       "      <th>6</th>\n",
       "      <td>121547849</td>\n",
       "      <td>1.016776</td>\n",
       "      <td>1.016776</td>\n",
       "      <td>0.752781</td>\n",
       "      <td>104</td>\n",
       "      <td>2847</td>\n",
       "      <td>17</td>\n",
       "      <td>107</td>\n",
       "      <td>17</td>\n",
       "      <td>36</td>\n",
       "      <td>18</td>\n",
       "      <td>1739</td>\n",
       "      <td>0</td>\n",
       "    </tr>\n",
       "    <tr>\n",
       "      <th>7</th>\n",
       "      <td>121601912</td>\n",
       "      <td>1.003841</td>\n",
       "      <td>1.003841</td>\n",
       "      <td>0.752439</td>\n",
       "      <td>304</td>\n",
       "      <td>2115</td>\n",
       "      <td>39</td>\n",
       "      <td>140</td>\n",
       "      <td>63</td>\n",
       "      <td>116</td>\n",
       "      <td>21</td>\n",
       "      <td>2456</td>\n",
       "      <td>0</td>\n",
       "    </tr>\n",
       "    <tr>\n",
       "      <th>8</th>\n",
       "      <td>120923965</td>\n",
       "      <td>0.986454</td>\n",
       "      <td>0.986454</td>\n",
       "      <td>0.752314</td>\n",
       "      <td>104</td>\n",
       "      <td>2847</td>\n",
       "      <td>15</td>\n",
       "      <td>107</td>\n",
       "      <td>17</td>\n",
       "      <td>36</td>\n",
       "      <td>18</td>\n",
       "      <td>1524</td>\n",
       "      <td>0</td>\n",
       "    </tr>\n",
       "    <tr>\n",
       "      <th>9</th>\n",
       "      <td>121760438</td>\n",
       "      <td>1.047512</td>\n",
       "      <td>1.047512</td>\n",
       "      <td>0.752049</td>\n",
       "      <td>304</td>\n",
       "      <td>2943</td>\n",
       "      <td>19</td>\n",
       "      <td>5</td>\n",
       "      <td>29</td>\n",
       "      <td>50</td>\n",
       "      <td>14</td>\n",
       "      <td>4502</td>\n",
       "      <td>0</td>\n",
       "    </tr>\n",
       "  </tbody>\n",
       "</table>\n",
       "</div>"
      ],
      "text/plain": [
       "   PanjivaRecordID  original_score  cur_score     delta  Carrier  \\\n",
       "0        121236969        0.992889   0.992889  0.852519      104   \n",
       "1        121236952        0.992889   0.992889  0.852519      104   \n",
       "2        120923963        0.992889   0.992889  0.852519      104   \n",
       "3        120923964        0.997848   0.997848  0.852314      104   \n",
       "4        120924097        1.021931   1.021931  0.755392      104   \n",
       "5        121926739        1.007296   1.007296  0.753394      104   \n",
       "6        121547849        1.016776   1.016776  0.752781      104   \n",
       "7        121601912        1.003841   1.003841  0.752439      304   \n",
       "8        120923965        0.986454   0.986454  0.752314      104   \n",
       "9        121760438        1.047512   1.047512  0.752049      304   \n",
       "\n",
       "   ConsigneePanjivaID  HSCode  PortOfLading  PortOfUnlading  \\\n",
       "0                2847      15           107              17   \n",
       "1                2847      15           107              17   \n",
       "2                2847      15           107              17   \n",
       "3                 724      15           107              17   \n",
       "4                2847      19           107              17   \n",
       "5                2847      15           107              17   \n",
       "6                2847      17           107              17   \n",
       "7                2115      39           140              63   \n",
       "8                2847      15           107              17   \n",
       "9                2943      19             5              29   \n",
       "\n",
       "   ShipmentDestination  ShipmentOrigin  ShipperPanjivaID  label  \n",
       "0                   36              18              1458      0  \n",
       "1                   36              18              1458      0  \n",
       "2                   36              18              1458      0  \n",
       "3                   36              18              1524      0  \n",
       "4                   36              18              1495      0  \n",
       "5                   36              18              2123      0  \n",
       "6                   36              18              1739      0  \n",
       "7                  116              21              2456      0  \n",
       "8                   36              18              1524      0  \n",
       "9                   50              14              4502      0  "
      ]
     },
     "execution_count": 9,
     "metadata": {},
     "output_type": "execute_result"
    }
   ],
   "source": [
    "onlineObj.obtain_current_unlabelled_output().head(10)"
   ]
  },
  {
   "cell_type": "code",
   "execution_count": 11,
   "id": "mediterranean-species",
   "metadata": {},
   "outputs": [
    {
     "data": {
      "text/plain": [
       "array([0., 1., 0., 0., 0., 0., 0., 1.])"
      ]
     },
     "execution_count": 11,
     "metadata": {},
     "output_type": "execute_result"
    }
   ],
   "source": []
  },
  {
   "cell_type": "code",
   "execution_count": null,
   "id": "connected-polls",
   "metadata": {},
   "outputs": [],
   "source": []
  },
  {
   "cell_type": "code",
   "execution_count": 10,
   "id": "comparative-latitude",
   "metadata": {},
   "outputs": [],
   "source": [
    "# onlineObj.register_feedback_input(\n",
    "#     recordID = 136155563, \n",
    "#     label=1\n",
    "# )\n",
    "# onlineObj.register_feedback_input(\n",
    "#     recordID = 136416428, \n",
    "#     label=1\n",
    "# )\n",
    "# onlineObj.register_feedback_input(\n",
    "#     recordID = 135981361, \n",
    "#     label=1,\n",
    "#     entity_pair_list = [('ConsigneePanjivaID','HSCode')]\n",
    "# )\n",
    "# onlineObj.register_feedback_input(\n",
    "#     recordID = 136214877, \n",
    "#     label=1,\n",
    "#     entity_pair_list = [('ConsigneePanjivaID','PortOfUnlading')]\n",
    "# )\n",
    "\n",
    "\n"
   ]
  },
  {
   "cell_type": "code",
   "execution_count": 11,
   "id": "robust-failure",
   "metadata": {},
   "outputs": [],
   "source": [
    "# onlineObj.__update_internal_model__()"
   ]
  },
  {
   "cell_type": "code",
   "execution_count": 12,
   "id": "selective-hurricane",
   "metadata": {},
   "outputs": [],
   "source": [
    "# onlineObj.obtain_current_unlabelled_output().head(10)"
   ]
  },
  {
   "cell_type": "code",
   "execution_count": null,
   "id": "incredible-startup",
   "metadata": {},
   "outputs": [],
   "source": []
  }
 ],
 "metadata": {
  "kernelspec": {
   "display_name": "Python 3",
   "language": "python",
   "name": "python3"
  },
  "language_info": {
   "codemirror_mode": {
    "name": "ipython",
    "version": 3
   },
   "file_extension": ".py",
   "mimetype": "text/x-python",
   "name": "python",
   "nbconvert_exporter": "python",
   "pygments_lexer": "ipython3",
   "version": "3.7.9"
  }
 },
 "nbformat": 4,
 "nbformat_minor": 5
}
