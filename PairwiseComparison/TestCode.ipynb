{
 "cells": [
  {
   "cell_type": "code",
   "execution_count": 1,
   "id": "bottom-harvard",
   "metadata": {},
   "outputs": [
    {
     "name": "stdout",
     "output_type": "stream",
     "text": [
      "INFO: Pandarallel will run on 40 workers.\n",
      "INFO: Pandarallel will use Memory file system to transfer data between the main process and workers.\n",
      "INFO: Pandarallel will run on 40 workers.\n",
      "INFO: Pandarallel will use Memory file system to transfer data between the main process and workers.\n"
     ]
    }
   ],
   "source": [
    "import fetchRecord_details\n",
    "import pandas as pd"
   ]
  },
  {
   "cell_type": "code",
   "execution_count": 2,
   "id": "wrong-coordination",
   "metadata": {},
   "outputs": [],
   "source": [
    "data_dir ='./../generated_data_v1/us_import'\n",
    "pairwise_data_dir = './../PairwiseComparison/pairWiseDist'\n",
    "subDIR='01_2016'"
   ]
  },
  {
   "cell_type": "code",
   "execution_count": 3,
   "id": "laughing-avenue",
   "metadata": {},
   "outputs": [],
   "source": [
    "# fetchRecord_details.initialize(data_dir, pairwise_data_dir, subDIR)"
   ]
  },
  {
   "cell_type": "code",
   "execution_count": 3,
   "id": "academic-beads",
   "metadata": {},
   "outputs": [],
   "source": [
    "fetchRecord_details.setupGlobals(data_dir)\n",
    "\n",
    "r = fetchRecord_details.fetchRecord_details(\n",
    "    id = '121983692',\n",
    "    subDIR='01_2016'\n",
    ")"
   ]
  },
  {
   "cell_type": "code",
   "execution_count": 4,
   "id": "improved-burke",
   "metadata": {},
   "outputs": [
    {
     "data": {
      "text/plain": [
       "[({'Carrier': 473}, {'ConsigneePanjivaID': 1263}, 0.9635945032016692),\n",
       " ({'Carrier': 473}, {'HSCode': 93}, 0.10163111668757843),\n",
       " ({'Carrier': 473}, {'PortOfLading': 53}, 0.04128778569673139),\n",
       " ({'Carrier': 473}, {'PortOfUnlading': 62}, 0.7805365296803654),\n",
       " ({'Carrier': 473}, {'ShipmentDestination': 115}, 0.12709284627092846),\n",
       " ({'Carrier': 473}, {'ShipmentOrigin': 22}, 0.6184738955823293),\n",
       " ({'Carrier': 473}, {'ShipperPanjivaID': 3107}, 0.986797375286584),\n",
       " ({'ConsigneePanjivaID': 1263}, {'HSCode': 93}, 0.060435303233077414),\n",
       " ({'ConsigneePanjivaID': 1263}, {'PortOfLading': 53}, 0.7169022046353872),\n",
       " ({'ConsigneePanjivaID': 1263}, {'PortOfUnlading': 62}, 0.8166421207658321),\n",
       " ({'ConsigneePanjivaID': 1263},\n",
       "  {'ShipmentDestination': 115},\n",
       "  0.5886183810103469),\n",
       " ({'ConsigneePanjivaID': 1263}, {'ShipmentOrigin': 22}, 0.5941390538211071),\n",
       " ({'ConsigneePanjivaID': 1263},\n",
       "  {'ShipperPanjivaID': 3107},\n",
       "  0.9389247311827957),\n",
       " ({'HSCode': 93}, {'PortOfLading': 53}, 0.31504599211563733),\n",
       " ({'HSCode': 93}, {'PortOfUnlading': 62}, 0.9626358695652173),\n",
       " ({'HSCode': 93}, {'ShipmentDestination': 115}, 0.43456584960531786),\n",
       " ({'HSCode': 93}, {'ShipmentOrigin': 22}, 0.20982413583990298),\n",
       " ({'HSCode': 93}, {'ShipperPanjivaID': 3107}, 0.5552832063597218),\n",
       " ({'PortOfLading': 53}, {'PortOfUnlading': 62}, 0.6190476190476191),\n",
       " ({'PortOfLading': 53}, {'ShipmentDestination': 115}, 0.08330248056275452),\n",
       " ({'PortOfLading': 53}, {'ShipmentOrigin': 22}, 0.8599735799207398),\n",
       " ({'PortOfLading': 53}, {'ShipperPanjivaID': 3107}, 0.7724569804767668),\n",
       " ({'PortOfUnlading': 62}, {'ShipmentDestination': 115}, 0.7644341801385681),\n",
       " ({'PortOfUnlading': 62}, {'ShipmentOrigin': 22}, 0.1171935235158057),\n",
       " ({'PortOfUnlading': 62}, {'ShipperPanjivaID': 3107}, 0.5086989260095907),\n",
       " ({'ShipmentDestination': 115}, {'ShipmentOrigin': 22}, 0.6612745098039216),\n",
       " ({'ShipmentDestination': 115},\n",
       "  {'ShipperPanjivaID': 3107},\n",
       "  0.7330412759257992),\n",
       " ({'ShipmentOrigin': 22}, {'ShipperPanjivaID': 3107}, 0.31624548736462094)]"
      ]
     },
     "execution_count": 4,
     "metadata": {},
     "output_type": "execute_result"
    }
   ],
   "source": [
    "r"
   ]
  },
  {
   "cell_type": "code",
   "execution_count": null,
   "id": "arbitrary-birmingham",
   "metadata": {},
   "outputs": [],
   "source": []
  }
 ],
 "metadata": {
  "kernelspec": {
   "display_name": "Python 3",
   "language": "python",
   "name": "python3"
  },
  "language_info": {
   "codemirror_mode": {
    "name": "ipython",
    "version": 3
   },
   "file_extension": ".py",
   "mimetype": "text/x-python",
   "name": "python",
   "nbconvert_exporter": "python",
   "pygments_lexer": "ipython3",
   "version": "3.7.9"
  }
 },
 "nbformat": 4,
 "nbformat_minor": 5
}
